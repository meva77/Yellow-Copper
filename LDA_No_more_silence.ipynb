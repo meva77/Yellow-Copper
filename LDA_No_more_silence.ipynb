{
  "nbformat": 4,
  "nbformat_minor": 0,
  "metadata": {
    "colab": {
      "name": "LDA_No_more_silence.ipynb",
      "version": "0.3.2",
      "provenance": [],
      "collapsed_sections": [],
      "include_colab_link": true
    },
    "kernelspec": {
      "name": "python3",
      "display_name": "Python 3"
    }
  },
  "cells": [
    {
      "cell_type": "markdown",
      "metadata": {
        "id": "view-in-github",
        "colab_type": "text"
      },
      "source": [
        "<a href=\"https://colab.research.google.com/github/meva77/Yellow-Copper/blob/master/LDA_No_more_silence.ipynb\" target=\"_parent\"><img src=\"https://colab.research.google.com/assets/colab-badge.svg\" alt=\"Open In Colab\"/></a>"
      ]
    },
    {
      "cell_type": "markdown",
      "metadata": {
        "id": "LmfPK_TmNuuT",
        "colab_type": "text"
      },
      "source": [
        "# Topic Modeling for No More Silence\n",
        "\n",
        "This notebook is a proof of concept of  of the OCRed text from the No More Silence corpus.\n",
        "\n",
        "Topic modeling is a type of statistical modeling for discovering the abstract “topics” that occur in a collection of documents. Latent Dirichlet Allocation (LDA) is an example of topic model and is used to classify text in a document to a particular topic. It builds a topic per document model and words per topic model, modeled as Dirichlet distributions."
      ]
    },
    {
      "cell_type": "markdown",
      "metadata": {
        "id": "pjSSp7_2PfYB",
        "colab_type": "text"
      },
      "source": [
        ""
      ]
    },
    {
      "cell_type": "markdown",
      "metadata": {
        "id": "YuMQz2JgN6Nv",
        "colab_type": "text"
      },
      "source": [
        "## Import data"
      ]
    },
    {
      "cell_type": "code",
      "metadata": {
        "id": "_lO6aq0CNqTH",
        "colab_type": "code",
        "outputId": "5846d115-03a1-4292-bd17-e18f0cc3dff3",
        "colab": {
          "base_uri": "https://localhost:8080/",
          "height": 34
        }
      },
      "source": [
        "import pandas as pd\n",
        "import os\n",
        "\n",
        "# Link to Google Drive folder\n",
        "from google.colab import drive\n",
        "# This will open a new tab and prompt for an authorization code.\n",
        "drive.mount('/content/drive', force_remount = True)\n",
        "\n",
        "# Customize project path to the individual analyst's google drive structure:\n",
        "# TODO: try to automatically detect what folder this Colab notebook is in.\n",
        "dir_proj = '/content/drive/My Drive/data-raw'\n",
        "#dir_proj = '/content/gdrive/Text summarization No More Silence 2019/notebooks/'\n",
        "\n",
        "# Import the scaled data\n",
        "# TODO: confirm that this is the right data.\n",
        "df = pd.read_excel(dir_proj + \"/NoMoreSilence_ProjectData.xlsx\", use_threads = os.cpu_count())\n"
      ],
      "execution_count": 0,
      "outputs": [
        {
          "output_type": "stream",
          "text": [
            "Mounted at /content/drive\n"
          ],
          "name": "stdout"
        }
      ]
    },
    {
      "cell_type": "code",
      "metadata": {
        "id": "N-kYuJeAF6SV",
        "colab_type": "code",
        "outputId": "d9cdf607-3b23-4289-a731-9284bbc597b3",
        "colab": {
          "base_uri": "https://localhost:8080/",
          "height": 34
        }
      },
      "source": [
        "!ls \"/content/drive/My Drive/data-raw\""
      ],
      "execution_count": 0,
      "outputs": [
        {
          "output_type": "stream",
          "text": [
            "NoMoreSilence_ProjectData.xlsx\n"
          ],
          "name": "stdout"
        }
      ]
    },
    {
      "cell_type": "code",
      "metadata": {
        "id": "uAg_U0zBOgx9",
        "colab_type": "code",
        "outputId": "93a56953-46c9-4354-c944-a6bcacc5ccbf",
        "colab": {
          "base_uri": "https://localhost:8080/",
          "height": 408
        }
      },
      "source": [
        "\n",
        "# Rename text column to not have a space in the name, and to be lowercase.\n",
        "df.rename(index=str, columns={\"Ocr text\": \"ocr_text\"}, inplace = True)\n",
        "\n",
        "print(df.shape)\n",
        "print(df.columns)\n",
        "\n",
        "text_col = \"ocr_text\""
      ],
      "execution_count": 0,
      "outputs": [
        {
          "output_type": "stream",
          "text": [
            "(735, 53)\n",
            "Index(['Collection Title', 'Title', 'Local Identifier ', 'Type', 'Date ',\n",
            "       'Date Type', 'Publication/Origination Info', 'Creator 1 Name',\n",
            "       'Creator 1 NameType', 'Creator 1 Source', 'Creator 2 Name',\n",
            "       'Creator 2 NameType', 'Creator 2 Source', 'Creator 3 Name',\n",
            "       'Creator 3 NameType', 'Creator 3 Source', 'Creator 4 Name',\n",
            "       'Creator 4 NameType', 'Creator 4 Source', 'Format/Physical Description',\n",
            "       'Language ', 'Language Code', 'Copyright Status', 'Copyright Statement',\n",
            "       'Source', 'Subject (Name) 1 Name', 'Subject (Name) 1 Name Type',\n",
            "       'Subject (Name) 1 Source', 'Subject (Name) 2 Name',\n",
            "       'Subject (Name) 2 Name Type', 'Subject (Name) 2 Source',\n",
            "       'Subject (Name) 3 Name', 'Subject (Name) 3 Name Type',\n",
            "       'Subject (Name) 3 Source', 'Subject (Topic) 1 Heading',\n",
            "       'Subject (Topic) 1 Heading Type', 'Subject (Topic) 1 Source',\n",
            "       'Subject (Topic) 2 Heading', 'Subject (Topic) 2 Heading Type',\n",
            "       'Subject (Topic) 2 Source', 'Subject (Topic) 3 Heading',\n",
            "       'Subject (Topic) 3 Heading Type', 'Subject (Topic) 3 Source',\n",
            "       'Subject (Topic) 4 Heading', 'Subject (Topic) 4 Heading Type',\n",
            "       'Subject (Topic) 4 Source', 'Subject (Topic) 5 Heading',\n",
            "       'Subject (Topic) 5 Heading Type', 'Subject (Topic) 5 Source',\n",
            "       'Subject (Topic) 6 Heading', 'Subject (Topic) 6 Heading Type',\n",
            "       'Subject (Topic) 6 Source', 'ocr_text'],\n",
            "      dtype='object')\n"
          ],
          "name": "stdout"
        }
      ]
    },
    {
      "cell_type": "code",
      "metadata": {
        "id": "nLGg--uzTRJ5",
        "colab_type": "code",
        "outputId": "bfa3dfb6-9cd9-4d0f-d3e1-adcb57c6b071",
        "colab": {
          "base_uri": "https://localhost:8080/",
          "height": 204
        }
      },
      "source": [
        "df.ocr_text.sample(10)"
      ],
      "execution_count": 0,
      "outputs": [
        {
          "output_type": "execute_result",
          "data": {
            "text/plain": [
              "437    INDECENTMATERIALS (Text bySenatorJesseHelms,R-...\n",
              "182      pgNbr=1 rear. tio^-frele Cjty University nea...\n",
              "441    ¬ß San Francisco Black CoALmoN on AIDS 1042Div...\n",
              "712    DECLARATION OF DEAN F. ECHENBERG, M.D. 1, Dean...\n",
              "607    WE ARE A RESEARCH QROUP THAT PROVIDES AIDS ANT...\n",
              "619    NEXT WAN MEETING MARCH 7, 1989, 9:30-11:30 25 ...\n",
              "239      pgNbr=1 Richard Whelan on the Barry Mehler i...\n",
              "259      pgNbr=1 Christmas 1992 New Year's 1993 Randy...\n",
              "364                                                     \n",
              "273    WRITER ‚Ä¢ EDITOR  PUBLIC RELATIONS CONSUL TAN...\n",
              "Name: ocr_text, dtype: object"
            ]
          },
          "metadata": {
            "tags": []
          },
          "execution_count": 126
        }
      ]
    },
    {
      "cell_type": "code",
      "metadata": {
        "id": "AyXzKwFRTqiE",
        "colab_type": "code",
        "outputId": "e8f7b3d2-94c1-4274-f9a9-a02ca038485c",
        "colab": {
          "base_uri": "https://localhost:8080/",
          "height": 119
        }
      },
      "source": [
        "data_text = df[['ocr_text']]\n",
        "data_text ['index'] = data_text.index\n",
        "doc = data_text"
      ],
      "execution_count": 0,
      "outputs": [
        {
          "output_type": "stream",
          "text": [
            "/usr/local/lib/python3.6/dist-packages/ipykernel_launcher.py:2: SettingWithCopyWarning: \n",
            "A value is trying to be set on a copy of a slice from a DataFrame.\n",
            "Try using .loc[row_indexer,col_indexer] = value instead\n",
            "\n",
            "See the caveats in the documentation: http://pandas.pydata.org/pandas-docs/stable/indexing.html#indexing-view-versus-copy\n",
            "  \n"
          ],
          "name": "stderr"
        }
      ]
    },
    {
      "cell_type": "code",
      "metadata": {
        "id": "ARYY6WR3jOR-",
        "colab_type": "code",
        "outputId": "11cb8147-79bc-456d-efaa-086b4de3a3b5",
        "colab": {
          "base_uri": "https://localhost:8080/",
          "height": 136
        }
      },
      "source": [
        "\n",
        "print(len(doc))\n",
        "print(doc[:5])"
      ],
      "execution_count": 0,
      "outputs": [
        {
          "output_type": "stream",
          "text": [
            "735\n",
            "                                            ocr_text index\n",
            "0  PROPOSITION 64 The AIDSInitiativein California...     0\n",
            "1  MAKING YOUR WILL California State Aids Legal S...     1\n",
            "2  January 11, 1997 Community Liaison Committee c...     2\n",
            "3  ^ GREAT REPUBLIC IIMSURAIMCE COMPANY i 470 SOU...     3\n",
            "4  SANFRANCISCOAIDSFOUNDATION P.O.BOX 426182,SANF...     4\n"
          ],
          "name": "stdout"
        }
      ]
    },
    {
      "cell_type": "markdown",
      "metadata": {
        "id": "oMOSR_BO8pdn",
        "colab_type": "text"
      },
      "source": [
        "# Pre-processing \n",
        "\n"
      ]
    },
    {
      "cell_type": "markdown",
      "metadata": {
        "id": "bU76XlQU_bnk",
        "colab_type": "text"
      },
      "source": [
        "Pre-Preprocessing\n",
        "It is always a good practice to make your textual data noise-free as much as possible. So, let’s do some basic text cleaning.\n",
        "Importing all the necessary Libaries "
      ]
    },
    {
      "cell_type": "code",
      "metadata": {
        "id": "KC3EgXuA_dNp",
        "colab_type": "code",
        "outputId": "42bbd21b-393c-470b-a0c5-4320a623b578",
        "colab": {
          "base_uri": "https://localhost:8080/",
          "height": 51
        }
      },
      "source": [
        "import gensim\n",
        "from gensim.utils import simple_preprocess\n",
        "from gensim.parsing.preprocessing import STOPWORDS\n",
        "from nltk.stem import WordNetLemmatizer, SnowballStemmer\n",
        "from nltk.stem.porter import *\n",
        "import numpy as np\n",
        "np.random.seed(2018)\n",
        "import nltk\n",
        "nltk.download('wordnet')\n",
        "\n",
        "from nltk.stem.snowball import SnowballStemmer\n",
        "stemmer = SnowballStemmer(\"english\") \n"
      ],
      "execution_count": 0,
      "outputs": [
        {
          "output_type": "stream",
          "text": [
            "[nltk_data] Downloading package wordnet to /root/nltk_data...\n",
            "[nltk_data]   Package wordnet is already up-to-date!\n"
          ],
          "name": "stdout"
        }
      ]
    },
    {
      "cell_type": "code",
      "metadata": {
        "id": "TW1a-Hv7Y9X5",
        "colab_type": "code",
        "colab": {}
      },
      "source": [
        "#Function to  lemmatized the document \n",
        "def lemmatize_stemming(ocr_text):\n",
        "    return stemmer.stem(WordNetLemmatizer().lemmatize(ocr_text, pos='v'))\n",
        "def preprocess(ocr_text):\n",
        "    result = []\n",
        "    for token in gensim.utils.simple_preprocess(ocr_text):\n",
        "        if token not in gensim.parsing.preprocessing.STOPWORDS and len(token) > 3:\n",
        "            result.append(lemmatize_stemming(token))\n",
        "    return result"
      ],
      "execution_count": 0,
      "outputs": []
    },
    {
      "cell_type": "code",
      "metadata": {
        "id": "SRfWROgnl4wI",
        "colab_type": "code",
        "outputId": "cb82f3e5-77a1-4314-c6ac-fe38ba4dba2a",
        "colab": {
          "base_uri": "https://localhost:8080/",
          "height": 54
        }
      },
      "source": [
        "doc.ocr_text.iloc[200]"
      ],
      "execution_count": 0,
      "outputs": [
        {
          "output_type": "execute_result",
          "data": {
            "text/plain": [
              "'  pgNbr=1 1 An Open Latter To The Bergalis Family By Randy Shi i ts On television shows on every network, I\\'ve seen you talking about your family\\'s suffering for several months and about what the government should do to prevent future pain like your\\'a¬´ Because anyone in possession of a human near\\'t can symo ath i c e with /our anguisn, you\\'ve been able to say some very tough things wi t r. ou c. man y of y a ur .1.11 e i\\'\" v i e we f\" as r-j \\\\ g t ou g hi gu e sit i a n s b ac k ¬´ But it\\'s time scmebooy talk back to you with candor, because the legislation you are proposing will hurt people and much of the anger you express will only serve, I feel, to ensure that many thousands of more families will feel the pain of losing someone to AIDS. What you\\'re saying is not helping the fight against this disease; it\\'s hindering it, and it\\'s time you came to understand this. You\\'ra angry that your daughter was infected with this horrible virus and is dying,, I understand that. I\\'m angry too that I\\'ve nad to watch half of my friends in the past decade waste away and die miserable deaths from this disease, I\\'m angry that I know people who have watched every single one or their friends get sick and die, so that by the time they fall ill they commit suicide rather than face this devastating illness alone. Yes, I understand anger. pgNbr=2 What makes your anger dif-ferent is that is that it seems so poorly io\\'formed. You are angry at the doctor whom you believe infected your daughter and politicians whom you think have not moved quickly enough on the issue ot HI V-i n-f ected health care workers. There, your anger ends. While you have every right to hold such anger, I can only suggest that it you knew more about the history o-f the AIDS epidemic, you would see that there are far greater villains against whom you should harbor far greater anger. Gne reason your daughter is dying now is oecause we don\\'t have better treatments for this disease. The major reason we don\\'t have those treatments is because we live in a country where the government did as little as it oossibly could to fight this epidemic for nearly five years. For years, there were not funds for even the most rudimentary research. We had a president who could not even bring himself to utter the word AIDS. We have a president today who has shown only slightly more concern. We are still losing time. That lost time is visible in the dying haggard faces of people like your daughter Kimberly, who might not be dying if the government had moved quickly to find the cause and cure of AIDS. You should be angry with a government that let this happen. What has been troubling about your anger is that you do not seem to acknowledge other peoples\\' suffering. When Kimberly spoke before Congress, she mentioned how unfair it was that she pgNbr=3 had to su-Ffer -from AIDS even though she \"didn\\'t do anything wrong. \" In those words, Kimberly seemed to be separating those for whom we should feel sorry from those we don\\'t need to. By inference, she seemed to be separating those who don\\'t deserve AIDS from those who do. To be honest, those words made me very angry. Gay men wno get AIDS are people wno express their love differently from the majority, it\\'s true, but they diPn t do anything \"wrong\" because they are net like you. Their plight, is no less tragic than Kimberly\\'s- People who got AIDS from dirty needles usually committed the \"wrong\" of being born black or Hispanic in a society that offers them largely despair and poverty. That\\'s why they suffer from the disease of drug addiction. They are human beings too and their deaths are also tragic. You need to understand that the major reason AIDS has spread without a concerted government response is that so many Americans held the view that only people who did something \"wrong\" got this disease. Your Kimberly might not be dyi.ng now if those fighting AIDS did not also have to fight this prejudice. I\\'m troubled that your rhetoric, separating the deserving and undeserving of AIDS, is not creating an environment in which the country will now mobilize against this disease. You are only reinforcing the prejudice which will leave the country mired in complacency. pgNbr=4 r 4 I\\'m even more troubled that you have aligned yourael-f with cynical politicians who have exploited your tragedy to in\\'flame this prejudice ‚Ä¢further, not to promote the public health but to promote their own political careers. In your anger and pain, you have rivetted the national attention on the one aspect of this epidemic that has affected you ‚Äî the apparent transmission of AIDS from a health care worker. You would even have health care workers put in prison .f they did net inform their patients,. You have a right to espouse anything you want in -imerica, but your undeniable tragedy should not immunice you from justifiable criticism. You have unleashed a madness that has polarized public policy-making around this epidemic and distracted attention from the serious problems that need to be met immediately if we are to truly fight HIV. Yes, it is tragic that your daughter is dying from AIDS, but for every one person in America infected from a health care worker, there are at least 100,000 who have been infected through sexual transmission and it is 100,000 times as tragic that even today, the government still refuses to adopt aggressive programs to stop this transmission both among gay men and heterosexuals. For every one American infected with HIV from a doctor, there are at least 100,000 who have been infected through intravenous drug use, and hundreds of thousands more who will be infected if government programs do not move quickly. The lack of C#SUi\\'W.W\\'. ^ pgNbr=5 5 action here deserves hundreds of thousands times the attention now being devoted to the issue of HIV-infected doctors. As for jails, there are not prisons large enough to hold the administration officials, the senators and congressmen who have all contributed to the tragedy of your daughter\\'s dying. No, the AIDS community and their allies in Congress has not jumped to your cause, but that is not because they don\\'t understana your suffering. It\\'s that they understand there is so much mora suf-^er:ing you don\\'t see- You are not the only parents wno have naa to endure the agony of watching a child die too young from AIDS; you are not the only people hurting because of this epidemic- Understand that we will not fight AIDS by fighting each other. The answer for AIDS will only come when Americans extend to all people dying of AIDS the same compassion you ask for Kimberly. When you are part of a national tragedy, it is important to feel sorry for more people than just yourselves. Randy ShiIts is author of And The Band Played Qn, a history of the early years of the AIDS epidemic. He is currently writing a book on gays in the military. pgNbr=6 publlshecl by the Que. Its 942 pages, including jam-packed witlk inside It \"yordPei fecf AIDS. President Bush has shown only WordPerfecrWorkbook\" By Randy Shilts- \\'slightly moie concerp..\\' ) say. All three volumes What is also troubling about the han nine pounds, San Francisco , anger of the Bergahses is that they do mg WordPerfect 5.1V can not-seem to acknowledge the suffering nyone who has a heart can ‚ñ† tMffling as the two mas- of others. When their sympathize, with the daughter spoke seeks-to illuminate, it fkJ Jergalia family over ‚ñ†.before Congrasa in Octobar to lobby a nifty, pocket-size, 15<K\" the death of. their for legisiatkm dtat would require tMt- titled- \"WordI -^ing of health care worke\\'rs for the laughter. Kiniberly,: enecr irpose-ls- fimtdayi U)w- siiustliatuiujeBAlDO.ahc mewtiwiad uii.i:,-\\' understand what ^\\'Using many other victims of AID^, she died hbw uiifafr it was that she had to suffer 15.1\" is telling you about: too young. . fron^AlDS even though she \"didn\\'t do derstand \"WordPerfect andJlWordPerfeCLWork- ^ ^^‚Äî:‚Äî.‚Äî‚ÄînatedTthe-AIDS|wbat^thi^yMr-the‚Äîshe seemed to be separating those who way Kimbcrty Bergalis did. But the deserve AIDS fromthose who da num pleasure from th.ese story of Ms. Bergalis and her I family^ These were troubling words. works, the .. reader have^the^WordPerfectsj?5!^y^^-!?^* Gay_.nieriiexpress:theirjove-differL_ ;sing program and a com- . !!lfmajority, it\\'s true, but ?rate it Now, now, don\\'t _^\"ghter-Was Infected with the horri- coirtracted AIDS didn\\'t do d-processfitg\"is nothing virus. I underetand \"*,^\\'^anytnipg \"wrong\"\" People wno were typing on a small TV 1?\\'infected by H.I.V. from dirty needles wrong\" of be- ‚ñ†e, you don\\'t need nine usuafly committed the aMe deaths fmm Ihe disease. Wbat lOOks with 2,566 pagesKo ing4)lack-or41ispanic in a society that . has made the Bergalises\\' anger differ- offers them ;, but largely despair and pov- then typing isn\\'t one- ent is that it has {>een so poorly fn- n of uford\\'processing erty. Their plight is no less tragic than mce; For a lotig time 1 -theyiiayebeenangfyat the iate^rr^^^irfci*!!*\" ssed with\\'‚Äîa‚Äîprogram^ A1 DS-hai-spread-without-a-concert- r^5BrT~Xrer, the Florida denffst they ect Writer.-it looK -ed ayear.- Governmeni-response-bfecause-so-J-] -believe infrefi^ their\\'Tdaughter-while- /ell; now 1 cafTub it ihlhjp many~Anierican8 tielieve\\'that\\'idnly^ ;‚ñ† she was being treated. They have been \\'erfect Writer becaniie an-r people who have done something -\\'angry at politicians who they think as six years old! Other\" \"wrong\" get the disdase. Ms. Bergalis of wofds laughed at me. -and many others might be aMve now if ssed wordawitii juogramsl those fighting AlDS-didJiotJilSQJtave:^ ; that they could not only ~totlght this prejudice.\"It\\'s- appalling What^boutthe- 000-word biography of the \"^that Affi^is rendered reripus only i1estJiuiiianJiuless_than Qlcrvf1ti4-^when-it-Btrikea-a-heterosexual^young.-. - s but could also sell it by OUlCl S WIIU al2>U . ¬´... woman or a star basketball player^:^ e\\'briefbut\\'lUlarious ‚Äî- an^- In their anger and pain, tlw Berga- itwork breakfast, shows. - -Uses focused national attention on the nothing \\'wrong? ;w prograny requites mas- ^one asp^ of the epidemic that affect- The iQue kevboard know-how. sign in the ‚Äîi-ed-thent‚Äîthe-apparfflt transfer of proficient mtiy take years,\" H.I.V. front a health care woricer. doesnTejast^ ‚ñ† have not moved quickly enough on the\\' * ilij remain halpiessjnjall_ it is tragic that their daughter issue -orir.r.v.-ini In the Mideast ( jriims. A perfectionist, 1 *died_from_AIDSL.But_there_are^one^ -Ihaya^^where-their-anger-!- million other‚ÄîHXV.-infected Ameri-‚Äî ‚Ä¢ couldn-t exist. xt ^gef a salesman as- \\' \\' \\'wish they-would understand- cans. Only five of them are thought to ihat,. nqre mastered, it that there are far greater villainsan\\'^ ‚ÄîTJnless4he^K)ad ctwHhe^ru^from healthy l)le me to publish an-entife ‚Äî*\\'\\'¬Æ AIDS epidemic^- care workers. Meanwhile, bundles of ; in =^The road that ci anyof 235 languages. \" One reason Kimberly Bergalis died thousands have contracted the disease - is that we don\\'t jiave better treat¬¨ aately, myfingers refuse to sexually or through intravenous drug ments /or the disease. This is because feet borders, carries die WritenThey keep hit- tise. It is thousands of times for the beuer part of a decade the more^ /orite Perfecr Writer key \" tragic that the U.S.. lacks Government did ^as little as. it could fidequate\\' ND ti3de,7aiid fOTffSrth FIELD) in Wo.{END - programs in these arenas even t^ay. possibly get-away with to fight the rdPerfect \\' prodpces this international trans The lesson from the sad stdiry Of epidemic,\" either in research or pre- lELD) baffling . result, - Kimberly Bergalis is that we will not vention.-As President, Ronald Reagan refuses to be-erased .1 am. system. \" fight . AIDS\\'by fighting one-another. found it difficult even to utter the word eading, reading, lioping to - -The^roadthat^^^ ,nia antwai^. wIllTcbme\" pgNbr=7 '"
            ]
          },
          "metadata": {
            "tags": []
          },
          "execution_count": 164
        }
      ]
    },
    {
      "cell_type": "code",
      "metadata": {
        "id": "XIx_CVV2W5X7",
        "colab_type": "code",
        "outputId": "d6be5414-25f8-48eb-ba5d-1311ab92e718",
        "colab": {
          "base_uri": "https://localhost:8080/",
          "height": 139
        }
      },
      "source": [
        "doc_sample = doc.ocr_text.iloc[200]\n",
        "print('original document: ')\n",
        "words = []\n",
        "for word in doc_sample.split(' '):\n",
        "    words.append(word)\n",
        "print(words)\n",
        "print('\\n\\n tokenized and lemmatized document: ')\n",
        "print(preprocess(doc_sample))"
      ],
      "execution_count": 0,
      "outputs": [
        {
          "output_type": "stream",
          "text": [
            "original document: \n",
            "['', '', 'pgNbr=1', '1', 'An', 'Open', 'Latter', 'To', 'The', 'Bergalis', 'Family', 'By', 'Randy', 'Shi', 'i', 'ts', 'On', 'television', 'shows', 'on', 'every', 'network,', \"I've\", 'seen', 'you', 'talking', 'about', 'your', \"family's\", 'suffering', 'for', 'several', 'months', 'and', 'about', 'what', 'the', 'government', 'should', 'do', 'to', 'prevent', 'future', 'pain', 'like', \"your'a¬´\", 'Because', 'anyone', 'in', 'possession', 'of', 'a', 'human', \"near't\", 'can', 'symo', 'ath', 'i', 'c', 'e', 'with', '/our', 'anguisn,', \"you've\", 'been', 'able', 'to', 'say', 'some', 'very', 'tough', 'things', 'wi', 't', 'r.', 'ou', 'c.', 'man', 'y', 'of', 'y', 'a', 'ur', '.1.11', 'e', 'i\\'\"', 'v', 'i', 'e', 'we', 'f\"', 'as', 'r-j', '\\\\', 'g', 't', 'ou', 'g', 'hi', 'gu', 'e', 'sit', 'i', 'a', 'n', 's', 'b', 'ac', 'k', '¬´', 'But', \"it's\", 'time', 'scmebooy', 'talk', 'back', 'to', 'you', 'with', 'candor,', 'because', 'the', 'legislation', 'you', 'are', 'proposing', 'will', 'hurt', 'people', 'and', 'much', 'of', 'the', 'anger', 'you', 'express', 'will', 'only', 'serve,', 'I', 'feel,', 'to', 'ensure', 'that', 'many', 'thousands', 'of', 'more', 'families', 'will', 'feel', 'the', 'pain', 'of', 'losing', 'someone', 'to', 'AIDS.', 'What', \"you're\", 'saying', 'is', 'not', 'helping', 'the', 'fight', 'against', 'this', 'disease;', \"it's\", 'hindering', 'it,', 'and', \"it's\", 'time', 'you', 'came', 'to', 'understand', 'this.', \"You'ra\", 'angry', 'that', 'your', 'daughter', 'was', 'infected', 'with', 'this', 'horrible', 'virus', 'and', 'is', 'dying,,', 'I', 'understand', 'that.', \"I'm\", 'angry', 'too', 'that', \"I've\", 'nad', 'to', 'watch', 'half', 'of', 'my', 'friends', 'in', 'the', 'past', 'decade', 'waste', 'away', 'and', 'die', 'miserable', 'deaths', 'from', 'this', 'disease,', \"I'm\", 'angry', 'that', 'I', 'know', 'people', 'who', 'have', 'watched', 'every', 'single', 'one', 'or', 'their', 'friends', 'get', 'sick', 'and', 'die,', 'so', 'that', 'by', 'the', 'time', 'they', 'fall', 'ill', 'they', 'commit', 'suicide', 'rather', 'than', 'face', 'this', 'devastating', 'illness', 'alone.', 'Yes,', 'I', 'understand', 'anger.', 'pgNbr=2', 'What', 'makes', 'your', 'anger', 'dif-ferent', 'is', 'that', 'is', 'that', 'it', 'seems', 'so', 'poorly', \"io'formed.\", 'You', 'are', 'angry', 'at', 'the', 'doctor', 'whom', 'you', 'believe', 'infected', 'your', 'daughter', 'and', 'politicians', 'whom', 'you', 'think', 'have', 'not', 'moved', 'quickly', 'enough', 'on', 'the', 'issue', 'ot', 'HI', 'V-i', 'n-f', 'ected', 'health', 'care', 'workers.', 'There,', 'your', 'anger', 'ends.', 'While', 'you', 'have', 'every', 'right', 'to', 'hold', 'such', 'anger,', 'I', 'can', 'only', 'suggest', 'that', 'it', 'you', 'knew', 'more', 'about', 'the', 'history', 'o-f', 'the', 'AIDS', 'epidemic,', 'you', 'would', 'see', 'that', 'there', 'are', 'far', 'greater', 'villains', 'against', 'whom', 'you', 'should', 'harbor', 'far', 'greater', 'anger.', 'Gne', 'reason', 'your', 'daughter', 'is', 'dying', 'now', 'is', 'oecause', 'we', \"don't\", 'have', 'better', 'treatments', 'for', 'this', 'disease.', 'The', 'major', 'reason', 'we', \"don't\", 'have', 'those', 'treatments', 'is', 'because', 'we', 'live', 'in', 'a', 'country', 'where', 'the', 'government', 'did', 'as', 'little', 'as', 'it', 'oossibly', 'could', 'to', 'fight', 'this', 'epidemic', 'for', 'nearly', 'five', 'years.', 'For', 'years,', 'there', 'were', 'not', 'funds', 'for', 'even', 'the', 'most', 'rudimentary', 'research.', 'We', 'had', 'a', 'president', 'who', 'could', 'not', 'even', 'bring', 'himself', 'to', 'utter', 'the', 'word', 'AIDS.', 'We', 'have', 'a', 'president', 'today', 'who', 'has', 'shown', 'only', 'slightly', 'more', 'concern.', 'We', 'are', 'still', 'losing', 'time.', 'That', 'lost', 'time', 'is', 'visible', 'in', 'the', 'dying', 'haggard', 'faces', 'of', 'people', 'like', 'your', 'daughter', 'Kimberly,', 'who', 'might', 'not', 'be', 'dying', 'if', 'the', 'government', 'had', 'moved', 'quickly', 'to', 'find', 'the', 'cause', 'and', 'cure', 'of', 'AIDS.', 'You', 'should', 'be', 'angry', 'with', 'a', 'government', 'that', 'let', 'this', 'happen.', 'What', 'has', 'been', 'troubling', 'about', 'your', 'anger', 'is', 'that', 'you', 'do', 'not', 'seem', 'to', 'acknowledge', 'other', \"peoples'\", 'suffering.', 'When', 'Kimberly', 'spoke', 'before', 'Congress,', 'she', 'mentioned', 'how', 'unfair', 'it', 'was', 'that', 'she', 'pgNbr=3', 'had', 'to', 'su-Ffer', '-from', 'AIDS', 'even', 'though', 'she', '\"didn\\'t', 'do', 'anything', 'wrong.', '\"', 'In', 'those', 'words,', 'Kimberly', 'seemed', 'to', 'be', 'separating', 'those', 'for', 'whom', 'we', 'should', 'feel', 'sorry', 'from', 'those', 'we', \"don't\", 'need', 'to.', 'By', 'inference,', 'she', 'seemed', 'to', 'be', 'separating', 'those', 'who', \"don't\", 'deserve', 'AIDS', 'from', 'those', 'who', 'do.', 'To', 'be', 'honest,', 'those', 'words', 'made', 'me', 'very', 'angry.', 'Gay', 'men', 'wno', 'get', 'AIDS', 'are', 'people', 'wno', 'express', 'their', 'love', 'differently', 'from', 'the', 'majority,', \"it's\", 'true,', 'but', 'they', 'diPn', 't', 'do', 'anything', '\"wrong\"', 'because', 'they', 'are', 'net', 'like', 'you.', 'Their', 'plight,', 'is', 'no', 'less', 'tragic', 'than', \"Kimberly's-\", 'People', 'who', 'got', 'AIDS', 'from', 'dirty', 'needles', 'usually', 'committed', 'the', '\"wrong\"', 'of', 'being', 'born', 'black', 'or', 'Hispanic', 'in', 'a', 'society', 'that', 'offers', 'them', 'largely', 'despair', 'and', 'poverty.', \"That's\", 'why', 'they', 'suffer', 'from', 'the', 'disease', 'of', 'drug', 'addiction.', 'They', 'are', 'human', 'beings', 'too', 'and', 'their', 'deaths', 'are', 'also', 'tragic.', 'You', 'need', 'to', 'understand', 'that', 'the', 'major', 'reason', 'AIDS', 'has', 'spread', 'without', 'a', 'concerted', 'government', 'response', 'is', 'that', 'so', 'many', 'Americans', 'held', 'the', 'view', 'that', 'only', 'people', 'who', 'did', 'something', '\"wrong\"', 'got', 'this', 'disease.', 'Your', 'Kimberly', 'might', 'not', 'be', 'dyi.ng', 'now', 'if', 'those', 'fighting', 'AIDS', 'did', 'not', 'also', 'have', 'to', 'fight', 'this', 'prejudice.', \"I'm\", 'troubled', 'that', 'your', 'rhetoric,', 'separating', 'the', 'deserving', 'and', 'undeserving', 'of', 'AIDS,', 'is', 'not', 'creating', 'an', 'environment', 'in', 'which', 'the', 'country', 'will', 'now', 'mobilize', 'against', 'this', 'disease.', 'You', 'are', 'only', 'reinforcing', 'the', 'prejudice', 'which', 'will', 'leave', 'the', 'country', 'mired', 'in', 'complacency.', 'pgNbr=4', 'r', '4', \"I'm\", 'even', 'more', 'troubled', 'that', 'you', 'have', 'aligned', 'yourael-f', 'with', 'cynical', 'politicians', 'who', 'have', 'exploited', 'your', 'tragedy', 'to', \"in'flame\", 'this', 'prejudice', '‚Ä¢further,', 'not', 'to', 'promote', 'the', 'public', 'health', 'but', 'to', 'promote', 'their', 'own', 'political', 'careers.', 'In', 'your', 'anger', 'and', 'pain,', 'you', 'have', 'rivetted', 'the', 'national', 'attention', 'on', 'the', 'one', 'aspect', 'of', 'this', 'epidemic', 'that', 'has', 'affected', 'you', '‚Äî', 'the', 'apparent', 'transmission', 'of', 'AIDS', 'from', 'a', 'health', 'care', 'worker.', 'You', 'would', 'even', 'have', 'health', 'care', 'workers', 'put', 'in', 'prison', '.f', 'they', 'did', 'net', 'inform', 'their', 'patients,.', 'You', 'have', 'a', 'right', 'to', 'espouse', 'anything', 'you', 'want', 'in', '-imerica,', 'but', 'your', 'undeniable', 'tragedy', 'should', 'not', 'immunice', 'you', 'from', 'justifiable', 'criticism.', 'You', 'have', 'unleashed', 'a', 'madness', 'that', 'has', 'polarized', 'public', 'policy-making', 'around', 'this', 'epidemic', 'and', 'distracted', 'attention', 'from', 'the', 'serious', 'problems', 'that', 'need', 'to', 'be', 'met', 'immediately', 'if', 'we', 'are', 'to', 'truly', 'fight', 'HIV.', 'Yes,', 'it', 'is', 'tragic', 'that', 'your', 'daughter', 'is', 'dying', 'from', 'AIDS,', 'but', 'for', 'every', 'one', 'person', 'in', 'America', 'infected', 'from', 'a', 'health', 'care', 'worker,', 'there', 'are', 'at', 'least', '100,000', 'who', 'have', 'been', 'infected', 'through', 'sexual', 'transmission', 'and', 'it', 'is', '100,000', 'times', 'as', 'tragic', 'that', 'even', 'today,', 'the', 'government', 'still', 'refuses', 'to', 'adopt', 'aggressive', 'programs', 'to', 'stop', 'this', 'transmission', 'both', 'among', 'gay', 'men', 'and', 'heterosexuals.', 'For', 'every', 'one', 'American', 'infected', 'with', 'HIV', 'from', 'a', 'doctor,', 'there', 'are', 'at', 'least', '100,000', 'who', 'have', 'been', 'infected', 'through', 'intravenous', 'drug', 'use,', 'and', 'hundreds', 'of', 'thousands', 'more', 'who', 'will', 'be', 'infected', 'if', 'government', 'programs', 'do', 'not', 'move', 'quickly.', 'The', 'lack', 'of', \"C#SUi'W.W'.\", '^', 'pgNbr=5', '5', 'action', 'here', 'deserves', 'hundreds', 'of', 'thousands', 'times', 'the', 'attention', 'now', 'being', 'devoted', 'to', 'the', 'issue', 'of', 'HIV-infected', 'doctors.', 'As', 'for', 'jails,', 'there', 'are', 'not', 'prisons', 'large', 'enough', 'to', 'hold', 'the', 'administration', 'officials,', 'the', 'senators', 'and', 'congressmen', 'who', 'have', 'all', 'contributed', 'to', 'the', 'tragedy', 'of', 'your', \"daughter's\", 'dying.', 'No,', 'the', 'AIDS', 'community', 'and', 'their', 'allies', 'in', 'Congress', 'has', 'not', 'jumped', 'to', 'your', 'cause,', 'but', 'that', 'is', 'not', 'because', 'they', \"don't\", 'understana', 'your', 'suffering.', \"It's\", 'that', 'they', 'understand', 'there', 'is', 'so', 'much', 'mora', 'suf-^er:ing', 'you', \"don't\", 'see-', 'You', 'are', 'not', 'the', 'only', 'parents', 'wno', 'have', 'naa', 'to', 'endure', 'the', 'agony', 'of', 'watching', 'a', 'child', 'die', 'too', 'young', 'from', 'AIDS;', 'you', 'are', 'not', 'the', 'only', 'people', 'hurting', 'because', 'of', 'this', 'epidemic-', 'Understand', 'that', 'we', 'will', 'not', 'fight', 'AIDS', 'by', 'fighting', 'each', 'other.', 'The', 'answer', 'for', 'AIDS', 'will', 'only', 'come', 'when', 'Americans', 'extend', 'to', 'all', 'people', 'dying', 'of', 'AIDS', 'the', 'same', 'compassion', 'you', 'ask', 'for', 'Kimberly.', 'When', 'you', 'are', 'part', 'of', 'a', 'national', 'tragedy,', 'it', 'is', 'important', 'to', 'feel', 'sorry', 'for', 'more', 'people', 'than', 'just', 'yourselves.', 'Randy', 'ShiIts', 'is', 'author', 'of', 'And', 'The', 'Band', 'Played', 'Qn,', 'a', 'history', 'of', 'the', 'early', 'years', 'of', 'the', 'AIDS', 'epidemic.', 'He', 'is', 'currently', 'writing', 'a', 'book', 'on', 'gays', 'in', 'the', 'military.', 'pgNbr=6', 'publlshecl', 'by', 'the', 'Que.', 'Its', '942', 'pages,', 'including', 'jam-packed', 'witlk', 'inside', 'It', '\"yordPei', 'fecf', 'AIDS.', 'President', 'Bush', 'has', 'shown', 'only', 'WordPerfecrWorkbook\"', 'By', 'Randy', 'Shilts-', \"'slightly\", 'moie', \"concerp..'\", ')', 'say.', 'All', 'three', 'volumes', 'What', 'is', 'also', 'troubling', 'about', 'the', 'han', 'nine', 'pounds,', 'San', 'Francisco', ',', 'anger', 'of', 'the', 'Bergahses', 'is', 'that', 'they', 'do', 'mg', 'WordPerfect', '5.1V', 'can', 'not-seem', 'to', 'acknowledge', 'the', 'suffering', 'nyone', 'who', 'has', 'a', 'heart', 'can', '‚ñ†', 'tMffling', 'as', 'the', 'two', 'mas-', 'of', 'others.', 'When', 'their', 'sympathize,', 'with', 'the', 'daughter', 'spoke', 'seeks-to', 'illuminate,', 'it', 'fkJ', 'Jergalia', 'family', 'over', '‚ñ†.before', 'Congrasa', 'in', 'Octobar', 'to', 'lobby', 'a', 'nifty,', 'pocket-size,', '15<K\"', 'the', 'death', 'of.', 'their', 'for', 'legisiatkm', 'dtat', 'would', 'require', 'tMt-', 'titled-', '\"WordI', '-^ing', 'of', 'health', 'care', \"worke'rs\", 'for', 'the', 'laughter.', 'Kiniberly,:', 'enecr', 'irpose-ls-', 'fimtdayi', 'U)w-', 'siiustliatuiujeBAlDO.ahc', 'mewtiwiad', \"uii.i:,-'\", 'understand', 'what', \"^'Using\", 'many', 'other', 'victims', 'of', 'AID^,', 'she', 'died', 'hbw', 'uiifafr', 'it', 'was', 'that', 'she', 'had', 'to', 'suffer', '15.1\"', 'is', 'telling', 'you', 'about:', 'too', 'young.', '.', 'fron^AlDS', 'even', 'though', 'she', '\"didn\\'t', 'do', 'derstand', '\"WordPerfect', 'andJlWordPerfeCLWork-', '^', '^^‚Äî:‚Äî.‚Äî‚ÄînatedTthe-AIDS|wbat^thi^yMr-the‚Äîshe', 'seemed', 'to', 'be', 'separating', 'those', 'who', 'way', 'Kimbcrty', 'Bergalis', 'did.', 'But', 'the', 'deserve', 'AIDS', 'fromthose', 'who', 'da', 'num', 'pleasure', 'from', 'th.ese', 'story', 'of', 'Ms.', 'Bergalis', 'and', 'her', 'I', 'family^', 'These', 'were', 'troubling', 'words.', 'works,', 'the', '..', 'reader', 'have^the^WordPerfectsj?5!^y^^-!?^*', 'Gay_.nieriiexpress:theirjove-differL_', ';sing', 'program', 'and', 'a', 'com-', '.', '!!lfmajority,', \"it's\", 'true,', 'but', '?rate', 'it', 'Now,', 'now,', \"don't\", '_^\"ghter-Was', 'Infected', 'with', 'the', 'horri-', 'coirtracted', 'AIDS', \"didn't\", 'do', 'd-processfitg\"is', 'nothing', 'virus.', 'I', 'underetand', '\"*,^\\'^anytnipg', '\"wrong\"\"', 'People', 'wno', 'were', 'typing', 'on', 'a', 'small', 'TV', \"1?'infected\", 'by', 'H.I.V.', 'from', 'dirty', 'needles', 'wrong\"', 'of', 'be-', '‚ñ†e,', 'you', \"don't\", 'need', 'nine', 'usuafly', 'committed', 'the', 'aMe', 'deaths', 'fmm', 'Ihe', 'disease.', 'Wbat', 'lOOks', 'with', '2,566', 'pagesKo', 'ing4)lack-or41ispanic', 'in', 'a', 'society', 'that', '.', 'has', 'made', 'the', \"Bergalises'\", 'anger', 'differ-', 'offers', 'them', ';,', 'but', 'largely', 'despair', 'and', 'pov-', 'then', 'typing', \"isn't\", 'one-', 'ent', 'is', 'that', 'it', 'has', '{>een', 'so', 'poorly', 'fn-', 'n', 'of', \"uford'processing\", 'erty.', 'Their', 'plight', 'is', 'no', 'less', 'tragic', 'than', 'mce;', 'For', 'a', 'lotig', 'time', '1', '-theyiiayebeenangfyat', 'the', 'iate^rr^^^irfci*!!*\"', 'ssed', \"with'‚Äîa‚Äîprogram^\", 'A1', 'DS-hai-spread-without-a-concert-', 'r^5BrT~Xrer,', 'the', 'Florida', 'denffst', 'they', 'ect', 'Writer.-it', 'looK', '-ed', 'ayear.-', 'Governmeni-response-bfecause-so-J-]', '-believe', 'infrefi^', \"their'Tdaughter-while-\", '/ell;', 'now', '1', 'cafTub', 'it', 'ihlhjp', 'many~Anierican8', \"tielieve'that'idnly^\", ';‚ñ†', 'she', 'was', 'being', 'treated.', 'They', 'have', 'been', \"'erfect\", 'Writer', 'becaniie', 'an-r', 'people', 'who', 'have', 'done', 'something', \"-'angry\", 'at', 'politicians', 'who', 'they', 'think', 'as', 'six', 'years', 'old!', 'Other\"', '\"wrong\"', 'get', 'the', 'disdase.', 'Ms.', 'Bergalis', 'of', 'wofds', 'laughed', 'at', 'me.', '-and', 'many', 'others', 'might', 'be', 'aMve', 'now', 'if', 'ssed', 'wordawitii', 'juogramsl', 'those', 'fighting', 'AlDS-didJiotJilSQJtave:^', ';', 'that', 'they', 'could', 'not', 'only', '~totlght', 'this', 'prejudice.\"It\\'s-', 'appalling', 'What^boutthe-', '000-word', 'biography', 'of', 'the', '\"^that', 'Affi^is', 'rendered', 'reripus', 'only', 'i1estJiuiiianJiuless_than', 'Qlcrvf1ti4-^when-it-Btrikea-a-heterosexual^young.-.', '-', 's', 'but', 'could', 'also', 'sell', 'it', 'by', 'OUlCl', 'S', 'WIIU', 'al2>U', '.', '¬´...', 'woman', 'or', 'a', 'star', 'basketball', 'player^:^', \"e'briefbut'lUlarious\", '‚Äî-', 'an^-', 'In', 'their', 'anger', 'and', 'pain,', 'tlw', 'Berga-', 'itwork', 'breakfast,', 'shows.', '-', '-Uses', 'focused', 'national', 'attention', 'on', 'the', 'nothing', \"'wrong?\", ';w', 'prograny', 'requites', 'mas-', '^one', 'asp^', 'of', 'the', 'epidemic', 'that', 'affect-', 'The', 'iQue', 'kevboard', 'know-how.', 'sign', 'in', 'the', '‚Äîi-ed-thent‚Äîthe-apparfflt', 'transfer', 'of', 'proficient', 'mtiy', 'take', 'years,\"', 'H.I.V.', 'front', 'a', 'health', 'care', 'woricer.', 'doesnTejast^', '‚ñ†', 'have', 'not', 'moved', 'quickly', 'enough', 'on', \"the'\", '*', 'ilij', 'remain', 'halpiessjnjall_', 'it', 'is', 'tragic', 'that', 'their', 'daughter', 'issue', '-orir.r.v.-ini', 'In', 'the', 'Mideast', '(', 'jriims.', 'A', 'perfectionist,', '1', '*died_from_AIDSL.But_there_are^one^', '-Ihaya^^where-their-anger-!-', 'million', 'other‚ÄîHXV.-infected', 'Ameri-‚Äî', '‚Ä¢', 'couldn-t', 'exist.', 'xt', '^gef', 'a', 'salesman', 'as-', \"'\", \"'\", \"'wish\", 'they-would', 'understand-', 'cans.', 'Only', 'five', 'of', 'them', 'are', 'thought', 'to', 'ihat,.', 'nqre', 'mastered,', 'it', 'that', 'there', 'are', 'far', 'greater', \"villainsan'^\", '‚ÄîTJnless4he^K)ad', 'ctwHhe^ru^from', 'healthy', 'l)le', 'me', 'to', 'publish', 'an-entife', \"‚Äî*''¬Æ\", 'AIDS', 'epidemic^-', 'care', 'workers.', 'Meanwhile,', 'bundles', 'of', ';', 'in', '=^The', 'road', 'that', 'ci', 'anyof', '235', 'languages.', '\"', 'One', 'reason', 'Kimberly', 'Bergalis', 'died', 'thousands', 'have', 'contracted', 'the', 'disease', '-', 'is', 'that', 'we', \"don't\", 'jiave', 'better', 'treat¬¨', 'aately,', 'myfingers', 'refuse', 'to', 'sexually', 'or', 'through', 'intravenous', 'drug', 'ments', '/or', 'the', 'disease.', 'This', 'is', 'because', 'feet', 'borders,', 'carries', 'die', 'WritenThey', 'keep', 'hit-', 'tise.', 'It', 'is', 'thousands', 'of', 'times', 'for', 'the', 'beuer', 'part', 'of', 'a', 'decade', 'the', 'more^', '/orite', 'Perfecr', 'Writer', 'key', '\"', 'tragic', 'that', 'the', 'U.S..', 'lacks', 'Government', 'did', '^as', 'little', 'as.', 'it', 'could', \"fidequate'\", 'ND', 'ti3de,7aiid', 'fOTffSrth', 'FIELD)', 'in', 'Wo.{END', '-', 'programs', 'in', 'these', 'arenas', 'even', 't^ay.', 'possibly', 'get-away', 'with', 'to', 'fight', 'the', 'rdPerfect', \"'\", 'prodpces', 'this', 'international', 'trans', 'The', 'lesson', 'from', 'the', 'sad', 'stdiry', 'Of', 'epidemic,\"', 'either', 'in', 'research', 'or', 'pre-', 'lELD)', 'baffling', '.', 'result,', '-', 'Kimberly', 'Bergalis', 'is', 'that', 'we', 'will', 'not', 'vention.-As', 'President,', 'Ronald', 'Reagan', 'refuses', 'to', 'be-erased', '.1', 'am.', 'system.', '\"', 'fight', '.', \"AIDS'by\", 'fighting', 'one-another.', 'found', 'it', 'difficult', 'even', 'to', 'utter', 'the', 'word', 'eading,', 'reading,', 'lioping', 'to', '-', '-The^roadthat^^^', ',nia', 'antwai^.', 'wIllTcbme\"', 'pgNbr=7', '']\n",
            "\n",
            "\n",
            " tokenized and lemmatized document: \n",
            "['pgnbr', 'open', 'bergali', 'famili', 'randi', 'televis', 'show', 'network', 'see', 'talk', 'famili', 'suffer', 'month', 'govern', 'prevent', 'futur', 'pain', 'like', 'possess', 'human', 'near', 'symo', 'anguisn', 'abl', 'tough', 'thing', 'time', 'scmebooy', 'talk', 'candor', 'legisl', 'propos', 'hurt', 'peopl', 'anger', 'express', 'serv', 'feel', 'ensur', 'thousand', 'famili', 'feel', 'pain', 'lose', 'aid', 'say', 'help', 'fight', 'diseas', 'hinder', 'time', 'come', 'understand', 'angri', 'daughter', 'infect', 'horribl', 'virus', 'die', 'understand', 'angri', 'watch', 'half', 'friend', 'past', 'decad', 'wast', 'away', 'miser', 'death', 'diseas', 'angri', 'know', 'peopl', 'watch', 'singl', 'friend', 'sick', 'time', 'fall', 'commit', 'suicid', 'face', 'devast', 'ill', 'understand', 'anger', 'pgnbr', 'make', 'anger', 'ferent', 'poor', 'form', 'angri', 'doctor', 'believ', 'infect', 'daughter', 'politician', 'think', 'move', 'quick', 'issu', 'ect', 'health', 'care', 'worker', 'anger', 'end', 'right', 'hold', 'anger', 'suggest', 'know', 'histori', 'aid', 'epidem', 'greater', 'villain', 'harbor', 'greater', 'anger', 'reason', 'daughter', 'die', 'oecaus', 'better', 'treatment', 'diseas', 'major', 'reason', 'treatment', 'live', 'countri', 'govern', 'littl', 'oossibl', 'fight', 'epidem', 'near', 'year', 'year', 'fund', 'rudimentari', 'research', 'presid', 'bring', 'utter', 'word', 'aid', 'presid', 'today', 'show', 'slight', 'concern', 'lose', 'time', 'lose', 'time', 'visibl', 'die', 'haggard', 'face', 'peopl', 'like', 'daughter', 'kimber', 'die', 'govern', 'move', 'quick', 'caus', 'cure', 'aid', 'angri', 'govern', 'happen', 'troubl', 'anger', 'acknowledg', 'peopl', 'suffer', 'kimber', 'speak', 'congress', 'mention', 'unfair', 'pgnbr', 'ffer', 'aid', 'wrong', 'word', 'kimber', 'separ', 'feel', 'sorri', 'need', 'infer', 'separ', 'deserv', 'aid', 'honest', 'word', 'angri', 'aid', 'peopl', 'express', 'love', 'differ', 'major', 'true', 'dipn', 'wrong', 'like', 'plight', 'tragic', 'kimber', 'peopl', 'aid', 'dirti', 'needl', 'usual', 'commit', 'wrong', 'bear', 'black', 'hispan', 'societi', 'offer', 'larg', 'despair', 'poverti', 'suffer', 'diseas', 'drug', 'addict', 'human', 'be', 'death', 'tragic', 'need', 'understand', 'major', 'reason', 'aid', 'spread', 'concert', 'govern', 'respons', 'american', 'hold', 'view', 'peopl', 'wrong', 'diseas', 'kimber', 'fight', 'aid', 'fight', 'prejudic', 'troubl', 'rhetor', 'separ', 'deserv', 'undeserv', 'aid', 'creat', 'environ', 'countri', 'mobil', 'diseas', 'reinforc', 'prejudic', 'leav', 'countri', 'mire', 'complac', 'pgnbr', 'troubl', 'align', 'yourael', 'cynic', 'politician', 'exploit', 'tragedi', 'flame', 'prejudic', 'promot', 'public', 'health', 'promot', 'polit', 'career', 'anger', 'pain', 'rivet', 'nation', 'attent', 'aspect', 'epidem', 'affect', 'appar', 'transmiss', 'aid', 'health', 'care', 'worker', 'health', 'care', 'worker', 'prison', 'inform', 'patient', 'right', 'espous', 'want', 'imerica', 'undeni', 'tragedi', 'immunic', 'justifi', 'critic', 'unleash', 'mad', 'polar', 'public', 'polici', 'make', 'epidem', 'distract', 'attent', 'problem', 'need', 'immedi', 'truli', 'fight', 'tragic', 'daughter', 'die', 'aid', 'person', 'america', 'infect', 'health', 'care', 'worker', 'infect', 'sexual', 'transmiss', 'time', 'tragic', 'today', 'govern', 'refus', 'adopt', 'aggress', 'program', 'stop', 'transmiss', 'heterosexu', 'american', 'infect', 'doctor', 'infect', 'intraven', 'drug', 'hundr', 'thousand', 'infect', 'govern', 'program', 'quick', 'lack', 'pgnbr', 'action', 'deserv', 'hundr', 'thousand', 'time', 'attent', 'devot', 'issu', 'infect', 'doctor', 'jail', 'prison', 'larg', 'hold', 'administr', 'offici', 'senat', 'congressmen', 'contribut', 'tragedi', 'daughter', 'die', 'aid', 'communiti', 'alli', 'congress', 'jump', 'caus', 'understana', 'suffer', 'understand', 'mora', 'parent', 'endur', 'agoni', 'watch', 'child', 'young', 'aid', 'peopl', 'hurt', 'epidem', 'understand', 'fight', 'aid', 'fight', 'answer', 'aid', 'come', 'american', 'extend', 'peopl', 'die', 'aid', 'compass', 'kimber', 'nation', 'tragedi', 'import', 'feel', 'sorri', 'peopl', 'randi', 'shiit', 'author', 'band', 'play', 'histori', 'earli', 'year', 'aid', 'epidem', 'current', 'write', 'book', 'gay', 'militari', 'pgnbr', 'publlshecl', 'page', 'includ', 'pack', 'witlk', 'insid', 'yordpei', 'fecf', 'aid', 'presid', 'bush', 'show', 'randi', 'shilt', 'slight', 'moie', 'concerp', 'volum', 'troubl', 'pound', 'francisco', 'anger', 'bergahs', 'wordperfect', 'acknowledg', 'suffer', 'nyon', 'heart', 'tmffling', 'sympath', 'daughter', 'speak', 'seek', 'illumin', 'jergalia', 'famili', 'congrasa', 'octobar', 'lobbi', 'nifti', 'pocket', 'size', 'death', 'legisiatkm', 'dtat', 'requir', 'titl', 'wordi', 'health', 'care', 'work', 'laughter', 'kinib', 'enecr', 'irpos', 'fimtdayi', 'mewtiwiad', 'understand', 'victim', 'die', 'uiifafr', 'suffer', 'tell', 'young', 'fron', 'ald', 'derstand', 'wordperfect', 'äînatedtth', 'aid', 'wbat', 'äîshe', 'separ', 'kimbcrti', 'bergali', 'deserv', 'aid', 'fromthos', 'pleasur', 'stori', 'bergali', 'famili', 'troubl', 'word', 'work', 'reader', 'wordperfectsj', 'gay_', 'nieriiexpress', 'theirjov', 'differl_', 'sing', 'program', 'lfmajor', 'true', 'rate', 'ghter', 'infect', 'horri', 'coirtract', 'aid', 'processfitg', 'virus', 'underetand', 'anytnipg', 'wrong', 'peopl', 'type', 'small', 'infect', 'dirti', 'needl', 'wrong', 'need', 'usuafli', 'commit', 'death', 'diseas', 'wbat', 'look', 'pagesko', 'lack', 'ispan', 'societi', 'bergalis', 'anger', 'differ', 'offer', 'larg', 'despair', 'type', 'poor', 'uford', 'process', 'erti', 'plight', 'tragic', 'lotig', 'time', 'iat', 'irfci', 'ssed', 'äîprogram', 'spread', 'concert', 'xrer', 'florida', 'denffst', 'writer', 'look', 'ayear', 'governmeni', 'respons', 'bfecaus', 'believ', 'infrefi', 'tdaughter', 'caftub', 'ihlhjp', 'anierican', 'tieliev', 'idn', 'treat', 'erfect', 'writer', 'becanii', 'peopl', 'angri', 'politician', 'think', 'year', 'wrong', 'disdas', 'bergali', 'wofd', 'laugh', 'amv', 'ssed', 'wordawitii', 'juogramsl', 'fight', 'ald', 'totlght', 'prejudic', 'appal', 'boutth', 'word', 'biographi', 'affi', 'render', 'reripus', 'qlcrvf', 'btrikea', 'heterosexu', 'young', 'sell', 'oulcl', 'wiiu', 'woman', 'star', 'basketbal', 'player', 'briefbut', 'lulari', 'anger', 'pain', 'berga', 'itwork', 'breakfast', 'show', 'use', 'focus', 'nation', 'attent', 'wrong', 'prograni', 'requit', 'epidem', 'affect', 'iqu', 'kevboard', 'know', 'sign', 'thent', 'äîthe', 'apparfflt', 'transfer', 'profici', 'mtiy', 'year', 'health', 'care', 'woric', 'doesntejast', 'move', 'quick', 'ilij', 'remain', 'halpiessjnjall_', 'tragic', 'daughter', 'issu', 'orir', 'mideast', 'jriim', 'perfectionist', 'died_from_aidsl', 'but_there_ar', 'ihaya', 'anger', 'million', 'äîhxv', 'infect', 'ameri', 'couldn', 'exist', 'salesman', 'wish', 'understand', 'can', 'think', 'ihat', 'nqre', 'master', 'greater', 'villainsan', 'äîtjnless', 'ctwhhe', 'healthi', 'publish', 'entif', 'aid', 'epidem', 'care', 'worker', 'bundl', 'road', 'anyof', 'languag', 'reason', 'kimber', 'bergali', 'die', 'thousand', 'contract', 'diseas', 'jiav', 'better', 'treat', 'aat', 'myfing', 'refus', 'sexual', 'intraven', 'drug', 'ment', 'diseas', 'feet', 'border', 'carri', 'writenthey', 'tise', 'thousand', 'time', 'beuer', 'decad', 'orit', 'perfecr', 'writer', 'tragic', 'lack', 'govern', 'littl', 'fidequ', 'aiid', 'fotffsrth', 'field', 'program', 'arena', 'possibl', 'away', 'fight', 'rdperfect', 'prodpc', 'intern', 'tran', 'lesson', 'stdiri', 'epidem', 'research', 'leld', 'baffl', 'result', 'kimber', 'bergali', 'vention', 'presid', 'ronald', 'reagan', 'refus', 'eras', 'fight', 'aid', 'fight', 'difficult', 'utter', 'word', 'ead', 'read', 'liop', 'roadthat', 'antwai', 'willtcbm', 'pgnbr']\n"
          ],
          "name": "stdout"
        }
      ]
    },
    {
      "cell_type": "code",
      "metadata": {
        "id": "EJI_-Op8SrfD",
        "colab_type": "code",
        "outputId": "a7ed16c5-749e-4d53-b82a-8aac7b0372fc",
        "colab": {
          "base_uri": "https://localhost:8080/",
          "height": 139
        }
      },
      "source": [
        "doc_sample = doc.ocr_text.iloc[100]\n",
        "print('original document: ')\n",
        "words = []\n",
        "for word in doc_sample.split(' '):\n",
        "    words.append(word)\n",
        "print(words)\n",
        "print('\\n\\n tokenized and lemmatized document: ')\n",
        "print(preprocess(doc_sample))"
      ],
      "execution_count": 0,
      "outputs": [
        {
          "output_type": "stream",
          "text": [
            "original document: \n",
            "['', 'pgNbr=1', 'I', \"'\", '', 'BY-¬∑RA¬∑NDY:', 'SHILTS', '¬∑', '\"t\\'', '', 'pgNbr=2', 'UP', '', 'GROWS', '', \"There's\", 'a', 'new', 'breed', '', 'of', 'gay', 'leadership', 'in', '', 'San', 'Francisco', 'today.', '', \"It's\", 'not', 'just', 'in', 'the', '', 'Castro,', 'or', 'even', 'City', '', 'Hall', '...', 'gay', 'clout', 'is', '', 'everywhere.', '', 'ed', '', 'he', 'reception', 'drew', 'an', 'array', 'of', 'San', 'Francisco', '']\n",
            "\n",
            "\n",
            " tokenized and lemmatized document: \n",
            "['pgnbr', 'shilt', 'pgnbr', 'grow', 'breed', 'leadership', 'francisco', 'today', 'castro', 'citi', 'hall', 'clout', 'recept', 'draw', 'array', 'francisco']\n"
          ],
          "name": "stdout"
        }
      ]
    },
    {
      "cell_type": "code",
      "metadata": {
        "id": "k1SCQB4VdjrZ",
        "colab_type": "code",
        "outputId": "6ece1be1-5c82-4a20-89d6-91eecac59610",
        "colab": {
          "base_uri": "https://localhost:8080/",
          "height": 54
        }
      },
      "source": [
        " doc.ocr_text.iloc[100]"
      ],
      "execution_count": 0,
      "outputs": [
        {
          "output_type": "execute_result",
          "data": {
            "text/plain": [
              "' pgNbr=1 I \\'  BY-¬∑RA¬∑NDY: SHILTS ¬∑ \"t\\'  pgNbr=2 UP  GROWS  There\\'s a new breed  of gay leadership in  San Francisco today.  It\\'s not just in the  Castro, or even City  Hall ... gay clout is  everywhere.  ed  he reception drew an array of San Francisco '"
            ]
          },
          "metadata": {
            "tags": []
          },
          "execution_count": 167
        }
      ]
    }
  ]
}